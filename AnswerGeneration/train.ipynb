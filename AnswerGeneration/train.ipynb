{
  "nbformat": 4,
  "nbformat_minor": 0,
  "metadata": {
    "kernelspec": {
      "name": "python3",
      "display_name": "Python 3"
    },
    "language_info": {
      "codemirror_mode": {
        "name": "ipython",
        "version": 3
      },
      "file_extension": ".py",
      "mimetype": "text/x-python",
      "name": "python",
      "nbconvert_exporter": "python",
      "pygments_lexer": "ipython3",
      "version": "3.6.8"
    },
    "colab": {
      "name": "train.ipynb",
      "provenance": [],
      "collapsed_sections": [],
      "machine_shape": "hm"
    },
    "accelerator": "GPU"
  },
  "cells": [
    {
      "cell_type": "markdown",
      "metadata": {
        "id": "i5doOG9iIsYg",
        "colab_type": "text"
      },
      "source": [
        "#**Answer Generation 任務**\n",
        "\n",
        "\n",
        "\n",
        "\n",
        "\n",
        "\n",
        "\n",
        "\n"
      ]
    },
    {
      "cell_type": "markdown",
      "metadata": {
        "id": "sXKj-j9ZfzFu",
        "colab_type": "text"
      },
      "source": [
        "### pytorch環境設定(https://pytorch.org)\n",
        "選擇適合的版本並複製指令貼到本專案"
      ]
    },
    {
      "cell_type": "code",
      "metadata": {
        "id": "7mUPOCc9f1fT",
        "colab_type": "code",
        "outputId": "9fa7ec59-ff97-4394-fd6c-90ab78b2f52b",
        "colab": {
          "base_uri": "https://localhost:8080/",
          "height": 101
        }
      },
      "source": [
        "!pip install torch torchvision"
      ],
      "execution_count": 1,
      "outputs": [
        {
          "output_type": "stream",
          "text": [
            "Requirement already satisfied: torch in /usr/local/lib/python3.6/dist-packages (1.5.0+cu101)\n",
            "Requirement already satisfied: torchvision in /usr/local/lib/python3.6/dist-packages (0.6.0+cu101)\n",
            "Requirement already satisfied: future in /usr/local/lib/python3.6/dist-packages (from torch) (0.16.0)\n",
            "Requirement already satisfied: numpy in /usr/local/lib/python3.6/dist-packages (from torch) (1.18.4)\n",
            "Requirement already satisfied: pillow>=4.1.1 in /usr/local/lib/python3.6/dist-packages (from torchvision) (7.0.0)\n"
          ],
          "name": "stdout"
        }
      ]
    },
    {
      "cell_type": "code",
      "metadata": {
        "id": "6CQquGs0f2-E",
        "colab_type": "code",
        "outputId": "6ca05004-3a6b-4976-aeea-3f1b37e42f82",
        "colab": {
          "base_uri": "https://localhost:8080/",
          "height": 50
        }
      },
      "source": [
        "#確定有安裝成功\n",
        "import torch\n",
        "print(torch.__version__)\n",
        "torch.cuda.is_available()"
      ],
      "execution_count": 2,
      "outputs": [
        {
          "output_type": "stream",
          "text": [
            "1.5.0+cu101\n"
          ],
          "name": "stdout"
        },
        {
          "output_type": "execute_result",
          "data": {
            "text/plain": [
              "True"
            ]
          },
          "metadata": {
            "tags": []
          },
          "execution_count": 2
        }
      ]
    },
    {
      "cell_type": "markdown",
      "metadata": {
        "id": "KTf31QYifint",
        "colab_type": "text"
      },
      "source": [
        "### **取得 google drive 存取權限**"
      ]
    },
    {
      "cell_type": "code",
      "metadata": {
        "id": "8CqfyK8SIo2o",
        "colab_type": "code",
        "outputId": "046fb377-0903-480b-b9da-406bc7f7e309",
        "colab": {
          "base_uri": "https://localhost:8080/",
          "height": 34
        }
      },
      "source": [
        "from google.colab import drive\n",
        "drive.mount('/content/drive', force_remount=True)"
      ],
      "execution_count": 3,
      "outputs": [
        {
          "output_type": "stream",
          "text": [
            "Mounted at /content/drive\n"
          ],
          "name": "stdout"
        }
      ]
    },
    {
      "cell_type": "code",
      "metadata": {
        "id": "72Pg2ymcGyg2",
        "colab_type": "code",
        "outputId": "fc9a1d87-9a48-4c47-815e-76ea19638266",
        "colab": {
          "base_uri": "https://localhost:8080/",
          "height": 34
        }
      },
      "source": [
        "cd /content/drive/My Drive/Colab Notebooks/Bert/AnswerGeneration/"
      ],
      "execution_count": 4,
      "outputs": [
        {
          "output_type": "stream",
          "text": [
            "/content/drive/My Drive/Colab Notebooks/Bert/AnswerGeneration\n"
          ],
          "name": "stdout"
        }
      ]
    },
    {
      "cell_type": "code",
      "metadata": {
        "id": "KdtNtU4DG02O",
        "colab_type": "code",
        "outputId": "07f489a3-e1a2-4067-e3a9-467e41aa65ed",
        "colab": {
          "base_uri": "https://localhost:8080/",
          "height": 34
        }
      },
      "source": [
        "!ls"
      ],
      "execution_count": 5,
      "outputs": [
        {
          "output_type": "stream",
          "text": [
            "DRCD_training.json  train.ipynb\n"
          ],
          "name": "stdout"
        }
      ]
    },
    {
      "cell_type": "code",
      "metadata": {
        "id": "t_RZSbmA5iyI",
        "colab_type": "code",
        "colab": {}
      },
      "source": [
        "import os\n",
        "os.environ[\"CUDA_VISIBLE_DEVICES\"] = \"0\""
      ],
      "execution_count": 0,
      "outputs": []
    },
    {
      "cell_type": "markdown",
      "metadata": {
        "id": "33rIRZCIj2yW",
        "colab_type": "text"
      },
      "source": [
        "### **下載dataset**"
      ]
    },
    {
      "cell_type": "code",
      "metadata": {
        "id": "_zDOYOkyj67s",
        "colab_type": "code",
        "outputId": "d641cd08-f833-49d6-b1d8-14a31906dcb0",
        "colab": {
          "base_uri": "https://localhost:8080/",
          "height": 202
        }
      },
      "source": [
        "import os\n",
        "def fileExists(filepath):\n",
        "  return  os.path.exists(filepath)\n",
        "#我把資料集放到我的github\n",
        "if fileExists('train.json')!=True:\n",
        "  !wget https://raw.githubusercontent.com/harry83528/NLP-BERT-Experience/master/AnswerGeneration/DataSet/DRCD_training.json"
      ],
      "execution_count": 7,
      "outputs": [
        {
          "output_type": "stream",
          "text": [
            "--2020-05-30 16:38:34--  https://raw.githubusercontent.com/harry83528/NLP-BERT-Experience/master/AnswerGeneration/DataSet/DRCD_training.json\n",
            "Resolving raw.githubusercontent.com (raw.githubusercontent.com)... 151.101.0.133, 151.101.64.133, 151.101.128.133, ...\n",
            "Connecting to raw.githubusercontent.com (raw.githubusercontent.com)|151.101.0.133|:443... connected.\n",
            "HTTP request sent, awaiting response... 200 OK\n",
            "Length: 15094666 (14M) [text/plain]\n",
            "Saving to: ‘DRCD_training.json.1’\n",
            "\n",
            "\rDRCD_training.json.   0%[                    ]       0  --.-KB/s               \rDRCD_training.json.  81%[===============>    ]  11.74M  58.7MB/s               \rDRCD_training.json. 100%[===================>]  14.39M  63.9MB/s    in 0.2s    \n",
            "\n",
            "2020-05-30 16:38:35 (63.9 MB/s) - ‘DRCD_training.json.1’ saved [15094666/15094666]\n",
            "\n"
          ],
          "name": "stdout"
        }
      ]
    },
    {
      "cell_type": "code",
      "metadata": {
        "id": "Ps1T6kk6j9s9",
        "colab_type": "code",
        "outputId": "234ef2af-8b6f-4870-bec6-73264168be63",
        "colab": {
          "base_uri": "https://localhost:8080/",
          "height": 34
        }
      },
      "source": [
        "!ls"
      ],
      "execution_count": 8,
      "outputs": [
        {
          "output_type": "stream",
          "text": [
            "DRCD_training.json  DRCD_training.json.1  train.ipynb\n"
          ],
          "name": "stdout"
        }
      ]
    },
    {
      "cell_type": "code",
      "metadata": {
        "id": "8v4klQQiZwaL",
        "colab_type": "code",
        "outputId": "796519c0-0a1a-4202-b586-29f854c586c0",
        "colab": {
          "base_uri": "https://localhost:8080/",
          "height": 34
        }
      },
      "source": [
        "!pip install ijson"
      ],
      "execution_count": 9,
      "outputs": [
        {
          "output_type": "stream",
          "text": [
            "Requirement already satisfied: ijson in /usr/local/lib/python3.6/dist-packages (3.0.4)\n"
          ],
          "name": "stdout"
        }
      ]
    },
    {
      "cell_type": "code",
      "metadata": {
        "id": "LqaPMTwBXeLN",
        "colab_type": "code",
        "outputId": "d32f6599-fceb-451f-e150-621eb290aef9",
        "colab": {
          "base_uri": "https://localhost:8080/",
          "height": 1000
        }
      },
      "source": [
        "import ijson\n",
        "\n",
        "data = ijson.parse(open('DRCD_training.json', 'r'))\n",
        "count=0\n",
        "for prefix, event, value in data:\n",
        "  print('prefix',prefix)\n",
        "  print('event',event)\n",
        "  print('value',value)\n",
        "  print('---'*50)\n",
        "  count=count+1\n",
        "  if count==51:\n",
        "    break;\n",
        "        "
      ],
      "execution_count": 10,
      "outputs": [
        {
          "output_type": "stream",
          "text": [
            "prefix \n",
            "event start_map\n",
            "value None\n",
            "------------------------------------------------------------------------------------------------------------------------------------------------------\n",
            "prefix \n",
            "event map_key\n",
            "value version\n",
            "------------------------------------------------------------------------------------------------------------------------------------------------------\n",
            "prefix version\n",
            "event string\n",
            "value 1.3\n",
            "------------------------------------------------------------------------------------------------------------------------------------------------------\n",
            "prefix \n",
            "event map_key\n",
            "value data\n",
            "------------------------------------------------------------------------------------------------------------------------------------------------------\n",
            "prefix data\n",
            "event start_array\n",
            "value None\n",
            "------------------------------------------------------------------------------------------------------------------------------------------------------\n",
            "prefix data.item\n",
            "event start_map\n",
            "value None\n",
            "------------------------------------------------------------------------------------------------------------------------------------------------------\n",
            "prefix data.item\n",
            "event map_key\n",
            "value title\n",
            "------------------------------------------------------------------------------------------------------------------------------------------------------\n",
            "prefix data.item.title\n",
            "event string\n",
            "value 广州\n",
            "------------------------------------------------------------------------------------------------------------------------------------------------------\n",
            "prefix data.item\n",
            "event map_key\n",
            "value id\n",
            "------------------------------------------------------------------------------------------------------------------------------------------------------\n",
            "prefix data.item.id\n",
            "event string\n",
            "value 1001\n",
            "------------------------------------------------------------------------------------------------------------------------------------------------------\n",
            "prefix data.item\n",
            "event map_key\n",
            "value paragraphs\n",
            "------------------------------------------------------------------------------------------------------------------------------------------------------\n",
            "prefix data.item.paragraphs\n",
            "event start_array\n",
            "value None\n",
            "------------------------------------------------------------------------------------------------------------------------------------------------------\n",
            "prefix data.item.paragraphs.item\n",
            "event start_map\n",
            "value None\n",
            "------------------------------------------------------------------------------------------------------------------------------------------------------\n",
            "prefix data.item.paragraphs.item\n",
            "event map_key\n",
            "value context\n",
            "------------------------------------------------------------------------------------------------------------------------------------------------------\n",
            "prefix data.item.paragraphs.item.context\n",
            "event string\n",
            "value 2010年引進的廣州快速公交運輸系統，屬世界第二大快速公交系統，日常載客量可達100萬人次，高峰時期每小時單向客流高達26900人次，僅次於波哥大的快速交通系統，平均每10秒鐘就有一輛巴士，每輛巴士單向行駛350小時。包括橋樑在內的站台是世界最長的州快速公交運輸系統站台，長達260米。目前廣州市區的計程車和公共汽車主要使用液化石油氣作燃料，部分公共汽車更使用油電、氣電混合動力技術。2012年底開始投放液化天然氣燃料的公共汽車，2014年6月開始投放液化天然氣插電式混合動力公共汽車，以取代液化石油氣公共汽車。2007年1月16日，廣州市政府全面禁止在市區內駕駛摩托車。違反禁令的機動車將會予以沒收。廣州市交通局聲稱禁令的施行，使得交通擁擠問題和車禍大幅減少。廣州白雲國際機場位於白雲區與花都區交界，2004年8月5日正式投入運營，屬中國交通情況第二繁忙的機場。該機場取代了原先位於市中心的無法滿足日益增長航空需求的舊機場。目前機場有三條飛機跑道，成為國內第三個擁有三跑道的民航機場。比鄰近的香港國際機場第三跑道預計的2023年落成早8年。\n",
            "------------------------------------------------------------------------------------------------------------------------------------------------------\n",
            "prefix data.item.paragraphs.item\n",
            "event map_key\n",
            "value id\n",
            "------------------------------------------------------------------------------------------------------------------------------------------------------\n",
            "prefix data.item.paragraphs.item.id\n",
            "event string\n",
            "value 1001-10\n",
            "------------------------------------------------------------------------------------------------------------------------------------------------------\n",
            "prefix data.item.paragraphs.item\n",
            "event map_key\n",
            "value qas\n",
            "------------------------------------------------------------------------------------------------------------------------------------------------------\n",
            "prefix data.item.paragraphs.item.qas\n",
            "event start_array\n",
            "value None\n",
            "------------------------------------------------------------------------------------------------------------------------------------------------------\n",
            "prefix data.item.paragraphs.item.qas.item\n",
            "event start_map\n",
            "value None\n",
            "------------------------------------------------------------------------------------------------------------------------------------------------------\n",
            "prefix data.item.paragraphs.item.qas.item\n",
            "event map_key\n",
            "value id\n",
            "------------------------------------------------------------------------------------------------------------------------------------------------------\n",
            "prefix data.item.paragraphs.item.qas.item.id\n",
            "event string\n",
            "value 1001-10-1\n",
            "------------------------------------------------------------------------------------------------------------------------------------------------------\n",
            "prefix data.item.paragraphs.item.qas.item\n",
            "event map_key\n",
            "value question\n",
            "------------------------------------------------------------------------------------------------------------------------------------------------------\n",
            "prefix data.item.paragraphs.item.qas.item.question\n",
            "event string\n",
            "value 廣州的快速公交運輸系統每多久就會有一輛巴士？\n",
            "------------------------------------------------------------------------------------------------------------------------------------------------------\n",
            "prefix data.item.paragraphs.item.qas.item\n",
            "event map_key\n",
            "value answers\n",
            "------------------------------------------------------------------------------------------------------------------------------------------------------\n",
            "prefix data.item.paragraphs.item.qas.item.answers\n",
            "event start_array\n",
            "value None\n",
            "------------------------------------------------------------------------------------------------------------------------------------------------------\n",
            "prefix data.item.paragraphs.item.qas.item.answers.item\n",
            "event start_map\n",
            "value None\n",
            "------------------------------------------------------------------------------------------------------------------------------------------------------\n",
            "prefix data.item.paragraphs.item.qas.item.answers.item\n",
            "event map_key\n",
            "value id\n",
            "------------------------------------------------------------------------------------------------------------------------------------------------------\n",
            "prefix data.item.paragraphs.item.qas.item.answers.item.id\n",
            "event string\n",
            "value 1\n",
            "------------------------------------------------------------------------------------------------------------------------------------------------------\n",
            "prefix data.item.paragraphs.item.qas.item.answers.item\n",
            "event map_key\n",
            "value text\n",
            "------------------------------------------------------------------------------------------------------------------------------------------------------\n",
            "prefix data.item.paragraphs.item.qas.item.answers.item.text\n",
            "event string\n",
            "value 10秒鐘\n",
            "------------------------------------------------------------------------------------------------------------------------------------------------------\n",
            "prefix data.item.paragraphs.item.qas.item.answers.item\n",
            "event map_key\n",
            "value answer_start\n",
            "------------------------------------------------------------------------------------------------------------------------------------------------------\n",
            "prefix data.item.paragraphs.item.qas.item.answers.item.answer_start\n",
            "event number\n",
            "value 84\n",
            "------------------------------------------------------------------------------------------------------------------------------------------------------\n",
            "prefix data.item.paragraphs.item.qas.item.answers.item\n",
            "event end_map\n",
            "value None\n",
            "------------------------------------------------------------------------------------------------------------------------------------------------------\n",
            "prefix data.item.paragraphs.item.qas.item.answers\n",
            "event end_array\n",
            "value None\n",
            "------------------------------------------------------------------------------------------------------------------------------------------------------\n",
            "prefix data.item.paragraphs.item.qas.item\n",
            "event end_map\n",
            "value None\n",
            "------------------------------------------------------------------------------------------------------------------------------------------------------\n",
            "prefix data.item.paragraphs.item.qas.item\n",
            "event start_map\n",
            "value None\n",
            "------------------------------------------------------------------------------------------------------------------------------------------------------\n",
            "prefix data.item.paragraphs.item.qas.item\n",
            "event map_key\n",
            "value id\n",
            "------------------------------------------------------------------------------------------------------------------------------------------------------\n",
            "prefix data.item.paragraphs.item.qas.item.id\n",
            "event string\n",
            "value 1001-10-2\n",
            "------------------------------------------------------------------------------------------------------------------------------------------------------\n",
            "prefix data.item.paragraphs.item.qas.item\n",
            "event map_key\n",
            "value question\n",
            "------------------------------------------------------------------------------------------------------------------------------------------------------\n",
            "prefix data.item.paragraphs.item.qas.item.question\n",
            "event string\n",
            "value 從哪一天開始在廣州市內騎摩托車會被沒收？\n",
            "------------------------------------------------------------------------------------------------------------------------------------------------------\n",
            "prefix data.item.paragraphs.item.qas.item\n",
            "event map_key\n",
            "value answers\n",
            "------------------------------------------------------------------------------------------------------------------------------------------------------\n",
            "prefix data.item.paragraphs.item.qas.item.answers\n",
            "event start_array\n",
            "value None\n",
            "------------------------------------------------------------------------------------------------------------------------------------------------------\n",
            "prefix data.item.paragraphs.item.qas.item.answers.item\n",
            "event start_map\n",
            "value None\n",
            "------------------------------------------------------------------------------------------------------------------------------------------------------\n",
            "prefix data.item.paragraphs.item.qas.item.answers.item\n",
            "event map_key\n",
            "value id\n",
            "------------------------------------------------------------------------------------------------------------------------------------------------------\n",
            "prefix data.item.paragraphs.item.qas.item.answers.item.id\n",
            "event string\n",
            "value 1\n",
            "------------------------------------------------------------------------------------------------------------------------------------------------------\n",
            "prefix data.item.paragraphs.item.qas.item.answers.item\n",
            "event map_key\n",
            "value text\n",
            "------------------------------------------------------------------------------------------------------------------------------------------------------\n",
            "prefix data.item.paragraphs.item.qas.item.answers.item.text\n",
            "event string\n",
            "value 2007年1月16日\n",
            "------------------------------------------------------------------------------------------------------------------------------------------------------\n",
            "prefix data.item.paragraphs.item.qas.item.answers.item\n",
            "event map_key\n",
            "value answer_start\n",
            "------------------------------------------------------------------------------------------------------------------------------------------------------\n",
            "prefix data.item.paragraphs.item.qas.item.answers.item.answer_start\n",
            "event number\n",
            "value 256\n",
            "------------------------------------------------------------------------------------------------------------------------------------------------------\n",
            "prefix data.item.paragraphs.item.qas.item.answers.item\n",
            "event end_map\n",
            "value None\n",
            "------------------------------------------------------------------------------------------------------------------------------------------------------\n"
          ],
          "name": "stdout"
        }
      ]
    },
    {
      "cell_type": "markdown",
      "metadata": {
        "id": "eMHSR-23g14r",
        "colab_type": "text"
      },
      "source": [
        "### **安裝所需的函式庫-HuggingFace 團隊將 GitHub 專案大翻新並更名成 transformers(Install the Hugging Face Library)**\n",
        "https://github.com/huggingface/transformers"
      ]
    },
    {
      "cell_type": "code",
      "metadata": {
        "id": "noekyOhAg3qt",
        "colab_type": "code",
        "colab": {
          "base_uri": "https://localhost:8080/",
          "height": 302
        },
        "outputId": "cce51566-35fe-49d6-f7b2-7a6fae505cd9"
      },
      "source": [
        "!pip install transformers"
      ],
      "execution_count": 11,
      "outputs": [
        {
          "output_type": "stream",
          "text": [
            "Requirement already satisfied: transformers in /usr/local/lib/python3.6/dist-packages (2.10.0)\n",
            "Requirement already satisfied: tqdm>=4.27 in /usr/local/lib/python3.6/dist-packages (from transformers) (4.41.1)\n",
            "Requirement already satisfied: sacremoses in /usr/local/lib/python3.6/dist-packages (from transformers) (0.0.43)\n",
            "Requirement already satisfied: tokenizers==0.7.0 in /usr/local/lib/python3.6/dist-packages (from transformers) (0.7.0)\n",
            "Requirement already satisfied: sentencepiece in /usr/local/lib/python3.6/dist-packages (from transformers) (0.1.91)\n",
            "Requirement already satisfied: filelock in /usr/local/lib/python3.6/dist-packages (from transformers) (3.0.12)\n",
            "Requirement already satisfied: requests in /usr/local/lib/python3.6/dist-packages (from transformers) (2.23.0)\n",
            "Requirement already satisfied: dataclasses; python_version < \"3.7\" in /usr/local/lib/python3.6/dist-packages (from transformers) (0.7)\n",
            "Requirement already satisfied: numpy in /usr/local/lib/python3.6/dist-packages (from transformers) (1.18.4)\n",
            "Requirement already satisfied: regex!=2019.12.17 in /usr/local/lib/python3.6/dist-packages (from transformers) (2019.12.20)\n",
            "Requirement already satisfied: six in /usr/local/lib/python3.6/dist-packages (from sacremoses->transformers) (1.12.0)\n",
            "Requirement already satisfied: joblib in /usr/local/lib/python3.6/dist-packages (from sacremoses->transformers) (0.15.1)\n",
            "Requirement already satisfied: click in /usr/local/lib/python3.6/dist-packages (from sacremoses->transformers) (7.1.2)\n",
            "Requirement already satisfied: urllib3!=1.25.0,!=1.25.1,<1.26,>=1.21.1 in /usr/local/lib/python3.6/dist-packages (from requests->transformers) (1.24.3)\n",
            "Requirement already satisfied: idna<3,>=2.5 in /usr/local/lib/python3.6/dist-packages (from requests->transformers) (2.9)\n",
            "Requirement already satisfied: certifi>=2017.4.17 in /usr/local/lib/python3.6/dist-packages (from requests->transformers) (2020.4.5.1)\n",
            "Requirement already satisfied: chardet<4,>=3.0.2 in /usr/local/lib/python3.6/dist-packages (from requests->transformers) (3.0.4)\n"
          ],
          "name": "stdout"
        }
      ]
    },
    {
      "cell_type": "code",
      "metadata": {
        "id": "OKjsatBug5tU",
        "colab_type": "code",
        "colab": {}
      },
      "source": [
        "%tensorflow_version 2.x"
      ],
      "execution_count": 0,
      "outputs": []
    },
    {
      "cell_type": "markdown",
      "metadata": {
        "id": "aIfZwFodk2K_",
        "colab_type": "text"
      },
      "source": [
        "### **指定想要用的模型是哪一種**\n",
        "到以下網址查詢模型與函數資訊\n",
        "https://huggingface.co/transformers"
      ]
    },
    {
      "cell_type": "markdown",
      "metadata": {
        "id": "dRc990adg8W-",
        "colab_type": "text"
      },
      "source": [
        "## **引入需要⽤到的函式庫**"
      ]
    },
    {
      "cell_type": "code",
      "metadata": {
        "id": "FFqvPMRjg7nL",
        "colab_type": "code",
        "colab": {}
      },
      "source": [
        "import os\n",
        "import pickle\n",
        "import torch\n",
        "from transformers import BertConfig, BertTokenizer, BertForMaskedLM, AdamW\n",
        "from torch.utils.data import DataLoader, TensorDataset\n",
        "import torch.nn.functional as F # 激勵函數"
      ],
      "execution_count": 0,
      "outputs": []
    },
    {
      "cell_type": "markdown",
      "metadata": {
        "id": "hFROMAiKl8ui",
        "colab_type": "text"
      },
      "source": [
        "### **載入資料並將資料轉換成輸入格式(Token Embeddings、Segment Embeddings、Position Embeddings)**"
      ]
    },
    {
      "cell_type": "markdown",
      "metadata": {
        "id": "VJa9hDtHha7d",
        "colab_type": "text"
      },
      "source": [
        "### **輸入格式轉Dataset**"
      ]
    },
    {
      "cell_type": "markdown",
      "metadata": {
        "id": "GD-OABDMhe8E",
        "colab_type": "text"
      },
      "source": [
        "## **確定 Embedding 是否正確**"
      ]
    },
    {
      "cell_type": "markdown",
      "metadata": {
        "id": "bJvLZ1tH2rgf",
        "colab_type": "text"
      },
      "source": [
        "## **分割數據**\n",
        "把資料切成訓練集跟測試集\n",
        "對於 Supervised Learning 來說，我們使⽤標註資料（Labeled Data）來做訓練\n",
        "因此我們需要訓練資料（Training Data）\n",
        "但是我們蒐集到的資料卻不能全部拿來做訓練\n",
        "因為我們必須要保留⼀些當作測試資料（Testing Data）來評估模型表現\n",
        "這些資料必須跟訓練資料是完全不同的，否則就有作弊的嫌疑\n",
        "所以我們會把我們的資料切成訓練集與測試集，通常會保留比較多當作訓練資料\n",
        "（60%~80%），其餘做測試資料"
      ]
    },
    {
      "cell_type": "code",
      "metadata": {
        "id": "ST5ZHdBt2BA9",
        "colab_type": "code",
        "colab": {}
      },
      "source": [
        "def split_dataset(full_dataset, split_rate=0.8):  \n",
        "    train_size = int(split_rate * len(full_dataset))\n",
        "    test_size = len(full_dataset) - train_size\n",
        "    train_dataset, test_dataset = torch.utils.data.random_split(full_dataset, [train_size, test_size])\n",
        "    return train_dataset,test_dataset"
      ],
      "execution_count": 0,
      "outputs": []
    },
    {
      "cell_type": "markdown",
      "metadata": {
        "id": "qXGgr6iUhiRd",
        "colab_type": "text"
      },
      "source": [
        "### **Fine-Tuning**\n"
      ]
    },
    {
      "cell_type": "code",
      "metadata": {
        "id": "dN6qIwfDhlVV",
        "colab_type": "code",
        "colab": {}
      },
      "source": [
        "# 計算正確值\n",
        "def compute_accuracy(y_pred, y_target):\n",
        "    _, y_pred_indices = y_pred.max(dim=1)\n",
        "    n_correct = torch.eq(y_pred_indices, y_target).sum().item()\n",
        "    return n_correct / len(y_pred_indices) * 100"
      ],
      "execution_count": 0,
      "outputs": []
    },
    {
      "cell_type": "markdown",
      "metadata": {
        "id": "xJE0E8pEhs0E",
        "colab_type": "text"
      },
      "source": [
        "### **開始訓練**"
      ]
    },
    {
      "cell_type": "markdown",
      "metadata": {
        "id": "steBZuo9h28-",
        "colab_type": "text"
      },
      "source": [
        "### **儲存模型**"
      ]
    }
  ]
}