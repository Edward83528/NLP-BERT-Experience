{
  "nbformat": 4,
  "nbformat_minor": 0,
  "metadata": {
    "kernelspec": {
      "name": "python3",
      "display_name": "Python 3"
    },
    "language_info": {
      "codemirror_mode": {
        "name": "ipython",
        "version": 3
      },
      "file_extension": ".py",
      "mimetype": "text/x-python",
      "name": "python",
      "nbconvert_exporter": "python",
      "pygments_lexer": "ipython3",
      "version": "3.6.8"
    },
    "colab": {
      "name": "train.ipynb",
      "provenance": [],
      "collapsed_sections": [],
      "machine_shape": "hm"
    },
    "accelerator": "GPU"
  },
  "cells": [
    {
      "cell_type": "markdown",
      "metadata": {
        "id": "i5doOG9iIsYg",
        "colab_type": "text"
      },
      "source": [
        "#**Answer Generation 任務**\n",
        "資料集引用台達閱讀理解資料集\n",
        "\n",
        "\n",
        "\n",
        "\n",
        "\n",
        "\n",
        "\n"
      ]
    },
    {
      "cell_type": "markdown",
      "metadata": {
        "id": "sXKj-j9ZfzFu",
        "colab_type": "text"
      },
      "source": [
        "### pytorch環境設定(https://pytorch.org)\n",
        "選擇適合的版本並複製指令貼到本專案"
      ]
    },
    {
      "cell_type": "code",
      "metadata": {
        "id": "7mUPOCc9f1fT",
        "colab_type": "code",
        "outputId": "9434a33d-6d7c-47e0-c7b2-627d7d980924",
        "colab": {
          "base_uri": "https://localhost:8080/",
          "height": 101
        }
      },
      "source": [
        "!pip install torch torchvision"
      ],
      "execution_count": 1,
      "outputs": [
        {
          "output_type": "stream",
          "text": [
            "Requirement already satisfied: torch in /usr/local/lib/python3.6/dist-packages (1.5.0+cu101)\n",
            "Requirement already satisfied: torchvision in /usr/local/lib/python3.6/dist-packages (0.6.0+cu101)\n",
            "Requirement already satisfied: numpy in /usr/local/lib/python3.6/dist-packages (from torch) (1.18.4)\n",
            "Requirement already satisfied: future in /usr/local/lib/python3.6/dist-packages (from torch) (0.16.0)\n",
            "Requirement already satisfied: pillow>=4.1.1 in /usr/local/lib/python3.6/dist-packages (from torchvision) (7.0.0)\n"
          ],
          "name": "stdout"
        }
      ]
    },
    {
      "cell_type": "code",
      "metadata": {
        "id": "6CQquGs0f2-E",
        "colab_type": "code",
        "outputId": "558a8fce-2326-4043-e6b8-5bbd09281e5a",
        "colab": {
          "base_uri": "https://localhost:8080/",
          "height": 50
        }
      },
      "source": [
        "#確定有安裝成功\n",
        "import torch\n",
        "print(torch.__version__)\n",
        "torch.cuda.is_available()"
      ],
      "execution_count": 2,
      "outputs": [
        {
          "output_type": "stream",
          "text": [
            "1.5.0+cu101\n"
          ],
          "name": "stdout"
        },
        {
          "output_type": "execute_result",
          "data": {
            "text/plain": [
              "True"
            ]
          },
          "metadata": {
            "tags": []
          },
          "execution_count": 2
        }
      ]
    },
    {
      "cell_type": "markdown",
      "metadata": {
        "id": "KTf31QYifint",
        "colab_type": "text"
      },
      "source": [
        "### **取得 google drive 存取權限**"
      ]
    },
    {
      "cell_type": "code",
      "metadata": {
        "id": "8CqfyK8SIo2o",
        "colab_type": "code",
        "outputId": "9d168e59-c189-412c-ab0c-1976d300ad44",
        "colab": {
          "base_uri": "https://localhost:8080/",
          "height": 121
        }
      },
      "source": [
        "from google.colab import drive\n",
        "drive.mount('/content/drive', force_remount=True)"
      ],
      "execution_count": 3,
      "outputs": [
        {
          "output_type": "stream",
          "text": [
            "Go to this URL in a browser: https://accounts.google.com/o/oauth2/auth?client_id=947318989803-6bn6qk8qdgf4n4g3pfee6491hc0brc4i.apps.googleusercontent.com&redirect_uri=urn%3aietf%3awg%3aoauth%3a2.0%3aoob&response_type=code&scope=email%20https%3a%2f%2fwww.googleapis.com%2fauth%2fdocs.test%20https%3a%2f%2fwww.googleapis.com%2fauth%2fdrive%20https%3a%2f%2fwww.googleapis.com%2fauth%2fdrive.photos.readonly%20https%3a%2f%2fwww.googleapis.com%2fauth%2fpeopleapi.readonly\n",
            "\n",
            "Enter your authorization code:\n",
            "··········\n",
            "Mounted at /content/drive\n"
          ],
          "name": "stdout"
        }
      ]
    },
    {
      "cell_type": "code",
      "metadata": {
        "id": "72Pg2ymcGyg2",
        "colab_type": "code",
        "outputId": "9edcb2dc-8b98-467b-f186-829b37d40ec0",
        "colab": {
          "base_uri": "https://localhost:8080/",
          "height": 34
        }
      },
      "source": [
        "cd /content/drive/My Drive/Colab Notebooks/Bert/AnswerGeneration/"
      ],
      "execution_count": 4,
      "outputs": [
        {
          "output_type": "stream",
          "text": [
            "/content/drive/My Drive/Colab Notebooks/Bert/AnswerGeneration\n"
          ],
          "name": "stdout"
        }
      ]
    },
    {
      "cell_type": "code",
      "metadata": {
        "id": "KdtNtU4DG02O",
        "colab_type": "code",
        "outputId": "5703e9c7-f55a-44fc-c261-3a99ede8b5af",
        "colab": {
          "base_uri": "https://localhost:8080/",
          "height": 34
        }
      },
      "source": [
        "!ls"
      ],
      "execution_count": 5,
      "outputs": [
        {
          "output_type": "stream",
          "text": [
            "train.ipynb\n"
          ],
          "name": "stdout"
        }
      ]
    },
    {
      "cell_type": "code",
      "metadata": {
        "id": "t_RZSbmA5iyI",
        "colab_type": "code",
        "colab": {}
      },
      "source": [
        "import os\n",
        "os.environ[\"CUDA_VISIBLE_DEVICES\"] = \"0\""
      ],
      "execution_count": 0,
      "outputs": []
    },
    {
      "cell_type": "markdown",
      "metadata": {
        "id": "33rIRZCIj2yW",
        "colab_type": "text"
      },
      "source": [
        "### **下載dataset**"
      ]
    },
    {
      "cell_type": "code",
      "metadata": {
        "id": "_zDOYOkyj67s",
        "colab_type": "code",
        "outputId": "89051769-1139-4946-ee3f-407cf1b34758",
        "colab": {
          "base_uri": "https://localhost:8080/",
          "height": 202
        }
      },
      "source": [
        "import os\n",
        "def fileExists(filepath):\n",
        "  return  os.path.exists(filepath)\n",
        "#我把資料集放到我的github\n",
        "if fileExists('train.json')!=True:\n",
        "  !wget -O train.json https://raw.githubusercontent.com/harry83528/NLP-BERT-Experience/master/AnswerGeneration/DataSet/DRCD_training.json"
      ],
      "execution_count": 7,
      "outputs": [
        {
          "output_type": "stream",
          "text": [
            "--2020-05-31 11:58:33--  https://raw.githubusercontent.com/harry83528/NLP-BERT-Experience/master/AnswerGeneration/DataSet/DRCD_training.json\n",
            "Resolving raw.githubusercontent.com (raw.githubusercontent.com)... 151.101.0.133, 151.101.64.133, 151.101.128.133, ...\n",
            "Connecting to raw.githubusercontent.com (raw.githubusercontent.com)|151.101.0.133|:443... connected.\n",
            "HTTP request sent, awaiting response... 200 OK\n",
            "Length: 15094666 (14M) [text/plain]\n",
            "Saving to: ‘train.json’\n",
            "\n",
            "train.json          100%[===================>]  14.39M  63.4MB/s    in 0.2s    \n",
            "\n",
            "2020-05-31 11:58:34 (63.4 MB/s) - ‘train.json’ saved [15094666/15094666]\n",
            "\n"
          ],
          "name": "stdout"
        }
      ]
    },
    {
      "cell_type": "code",
      "metadata": {
        "id": "Ps1T6kk6j9s9",
        "colab_type": "code",
        "outputId": "63c31ed0-1fa3-4fcf-f3e9-23e2ae3e8ff1",
        "colab": {
          "base_uri": "https://localhost:8080/",
          "height": 34
        }
      },
      "source": [
        "!ls"
      ],
      "execution_count": 13,
      "outputs": [
        {
          "output_type": "stream",
          "text": [
            "train.ipynb  train.json\n"
          ],
          "name": "stdout"
        }
      ]
    },
    {
      "cell_type": "code",
      "metadata": {
        "id": "8v4klQQiZwaL",
        "colab_type": "code",
        "outputId": "a4a536a4-45f1-44a8-e7dd-4a6e13e00c26",
        "colab": {
          "base_uri": "https://localhost:8080/",
          "height": 101
        }
      },
      "source": [
        "!pip install ijson"
      ],
      "execution_count": 9,
      "outputs": [
        {
          "output_type": "stream",
          "text": [
            "Collecting ijson\n",
            "\u001b[?25l  Downloading https://files.pythonhosted.org/packages/11/82/03c325c85196744658c6d095c1e90dbd408595c596fc136b2157b2edaa10/ijson-3.0.4-cp36-cp36m-manylinux1_x86_64.whl (98kB)\n",
            "\r\u001b[K     |███▎                            | 10kB 18.3MB/s eta 0:00:01\r\u001b[K     |██████▋                         | 20kB 2.2MB/s eta 0:00:01\r\u001b[K     |██████████                      | 30kB 2.9MB/s eta 0:00:01\r\u001b[K     |█████████████▎                  | 40kB 3.1MB/s eta 0:00:01\r\u001b[K     |████████████████▋               | 51kB 2.6MB/s eta 0:00:01\r\u001b[K     |████████████████████            | 61kB 2.9MB/s eta 0:00:01\r\u001b[K     |███████████████████████▎        | 71kB 3.1MB/s eta 0:00:01\r\u001b[K     |██████████████████████████▌     | 81kB 3.4MB/s eta 0:00:01\r\u001b[K     |█████████████████████████████▉  | 92kB 3.6MB/s eta 0:00:01\r\u001b[K     |████████████████████████████████| 102kB 2.7MB/s \n",
            "\u001b[?25hInstalling collected packages: ijson\n",
            "Successfully installed ijson-3.0.4\n"
          ],
          "name": "stdout"
        }
      ]
    },
    {
      "cell_type": "code",
      "metadata": {
        "id": "LqaPMTwBXeLN",
        "colab_type": "code",
        "colab": {}
      },
      "source": [
        "import ijson\n",
        "\n",
        "context = []\n",
        "question = []\n",
        "answersText = []\n",
        "count=0\n",
        "file_name=\"train.json\"\n",
        "contextId=''\n",
        "with open(file_name) as file:\n",
        "    parser = ijson.parse(file)\n",
        "    contextId=''\n",
        "    context2=''\n",
        "    for prefix, event, value in parser:\n",
        "        # print('prefix',prefix)\n",
        "        # print('event',event)\n",
        "        # print('value',value)\n",
        "        if prefix==\"data.item.paragraphs.item.id\":\n",
        "          #print('contextId',value)          \n",
        "          contextId=value\n",
        "        if prefix==\"data.item.paragraphs.item.context\":\n",
        "          #print('context',value)\n",
        "          context2=value\n",
        "        if prefix==\"data.item.paragraphs.item.qas.item.question\":\n",
        "          context.append(context2)\n",
        "          #print('question',value)\n",
        "          #print('contextId',contextId)\n",
        "          question.append(value)\n",
        "        if prefix==\"data.item.paragraphs.item.qas.item.answers.item.text\":\n",
        "          #print('context2',context2)\n",
        "          #print('answersText',value)\n",
        "          #print('contextId',contextId)\n",
        "          answersText.append(value)\n",
        "        #print(\"---\"*50)\n",
        "        # count=count+1\n",
        "        # if count==51:\n",
        "        #   break;"
      ],
      "execution_count": 0,
      "outputs": []
    },
    {
      "cell_type": "code",
      "metadata": {
        "id": "K2WUALXJspOW",
        "colab_type": "code",
        "colab": {
          "base_uri": "https://localhost:8080/",
          "height": 104
        },
        "outputId": "9dacf4b9-d5d7-4b45-f5ed-e465c4db9dde"
      },
      "source": [
        "print(len(context),len(question),len(answersText))\n",
        "print(context[2000][0:450])\n",
        "print(question[2000][0:42])\n",
        "print(answersText[2000][0:16])"
      ],
      "execution_count": 55,
      "outputs": [
        {
          "output_type": "stream",
          "text": [
            "26936 26936 26936\n",
            "賽德娜擁有離心率非常大的橢圓公轉軌道，它的近日點及遠日點估計分別約為76天文單位及937天文單位，是天文學家觀測到的天體中近日點距離太陽最遙遠的一個。賽德娜在天文學家發現它的時候正接近近日點，當時距離太陽為89.6天文單位，是人類觀測到距離太陽最遠的太陽系天體。鬩神星後來在距離太陽97天文單位的位置被天文學家發現，比發現賽德娜的位置更遠。有一些長週期彗星會運行到比賽德娜更遠的位置，不過因為太過黑暗而無法觀測。即使賽德娜在2076年抵達近日點，太陽仍然只是天空中一個非常明亮的恆星，只比滿月還要明亮100倍，而且因為太過遙遠，所以無法用肉眼觀測到圓盤面。賽德娜的公轉周期約為11,400年，會在2075年末至2076年中之間通過近日點，而賽德娜也會在2114年追過鬩神星，成為距離太陽最遠的球狀天體。\n",
            "被發現時比賽德娜被發現時的距離還遠的星為？\n",
            "鬩神星\n"
          ],
          "name": "stdout"
        }
      ]
    },
    {
      "cell_type": "markdown",
      "metadata": {
        "id": "eMHSR-23g14r",
        "colab_type": "text"
      },
      "source": [
        "### **安裝所需的函式庫-HuggingFace 團隊將 GitHub 專案大翻新並更名成 transformers(Install the Hugging Face Library)**\n",
        "https://github.com/huggingface/transformers"
      ]
    },
    {
      "cell_type": "code",
      "metadata": {
        "id": "noekyOhAg3qt",
        "colab_type": "code",
        "colab": {}
      },
      "source": [
        "!pip install transformers"
      ],
      "execution_count": 0,
      "outputs": []
    },
    {
      "cell_type": "code",
      "metadata": {
        "id": "OKjsatBug5tU",
        "colab_type": "code",
        "colab": {}
      },
      "source": [
        "%tensorflow_version 2.x"
      ],
      "execution_count": 0,
      "outputs": []
    },
    {
      "cell_type": "markdown",
      "metadata": {
        "id": "aIfZwFodk2K_",
        "colab_type": "text"
      },
      "source": [
        "### **指定想要用的模型是哪一種**\n",
        "到以下網址查詢模型與函數資訊\n",
        "https://huggingface.co/transformers"
      ]
    },
    {
      "cell_type": "markdown",
      "metadata": {
        "id": "dRc990adg8W-",
        "colab_type": "text"
      },
      "source": [
        "## **引入需要⽤到的函式庫**"
      ]
    },
    {
      "cell_type": "code",
      "metadata": {
        "id": "FFqvPMRjg7nL",
        "colab_type": "code",
        "colab": {}
      },
      "source": [
        "import os\n",
        "import pickle\n",
        "import torch\n",
        "from transformers import BertConfig, BertTokenizer, BertForMaskedLM, AdamW\n",
        "from torch.utils.data import DataLoader, TensorDataset\n",
        "import torch.nn.functional as F # 激勵函數"
      ],
      "execution_count": 0,
      "outputs": []
    },
    {
      "cell_type": "markdown",
      "metadata": {
        "id": "hFROMAiKl8ui",
        "colab_type": "text"
      },
      "source": [
        "### **載入資料並將資料轉換成輸入格式(Token Embeddings、Segment Embeddings、Position Embeddings)**"
      ]
    },
    {
      "cell_type": "markdown",
      "metadata": {
        "id": "VJa9hDtHha7d",
        "colab_type": "text"
      },
      "source": [
        "### **輸入格式轉Dataset**"
      ]
    },
    {
      "cell_type": "markdown",
      "metadata": {
        "id": "GD-OABDMhe8E",
        "colab_type": "text"
      },
      "source": [
        "## **確定 Embedding 是否正確**"
      ]
    },
    {
      "cell_type": "markdown",
      "metadata": {
        "id": "bJvLZ1tH2rgf",
        "colab_type": "text"
      },
      "source": [
        "## **分割數據**\n",
        "把資料切成訓練集跟測試集\n",
        "對於 Supervised Learning 來說，我們使⽤標註資料（Labeled Data）來做訓練\n",
        "因此我們需要訓練資料（Training Data）\n",
        "但是我們蒐集到的資料卻不能全部拿來做訓練\n",
        "因為我們必須要保留⼀些當作測試資料（Testing Data）來評估模型表現\n",
        "這些資料必須跟訓練資料是完全不同的，否則就有作弊的嫌疑\n",
        "所以我們會把我們的資料切成訓練集與測試集，通常會保留比較多當作訓練資料\n",
        "（60%~80%），其餘做測試資料"
      ]
    },
    {
      "cell_type": "code",
      "metadata": {
        "id": "ST5ZHdBt2BA9",
        "colab_type": "code",
        "colab": {}
      },
      "source": [
        "def split_dataset(full_dataset, split_rate=0.8):  \n",
        "    train_size = int(split_rate * len(full_dataset))\n",
        "    test_size = len(full_dataset) - train_size\n",
        "    train_dataset, test_dataset = torch.utils.data.random_split(full_dataset, [train_size, test_size])\n",
        "    return train_dataset,test_dataset"
      ],
      "execution_count": 0,
      "outputs": []
    },
    {
      "cell_type": "markdown",
      "metadata": {
        "id": "qXGgr6iUhiRd",
        "colab_type": "text"
      },
      "source": [
        "### **Fine-Tuning**\n"
      ]
    },
    {
      "cell_type": "code",
      "metadata": {
        "id": "dN6qIwfDhlVV",
        "colab_type": "code",
        "colab": {}
      },
      "source": [
        "# 計算正確值\n",
        "def compute_accuracy(y_pred, y_target):\n",
        "    _, y_pred_indices = y_pred.max(dim=1)\n",
        "    n_correct = torch.eq(y_pred_indices, y_target).sum().item()\n",
        "    return n_correct / len(y_pred_indices) * 100"
      ],
      "execution_count": 0,
      "outputs": []
    },
    {
      "cell_type": "markdown",
      "metadata": {
        "id": "xJE0E8pEhs0E",
        "colab_type": "text"
      },
      "source": [
        "### **開始訓練**"
      ]
    },
    {
      "cell_type": "markdown",
      "metadata": {
        "id": "steBZuo9h28-",
        "colab_type": "text"
      },
      "source": [
        "### **儲存模型**"
      ]
    }
  ]
}